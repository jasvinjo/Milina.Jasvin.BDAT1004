{
 "cells": [
  {
   "cell_type": "markdown",
   "id": "9b42efb9-a306-4e7a-b50a-649004c83bd5",
   "metadata": {},
   "source": [
    "### What data type is each of the following (evaluate where necessary)?"
   ]
  },
  {
   "cell_type": "code",
   "execution_count": null,
   "id": "91c2a5f8-7faa-45dd-824a-eff120dd45cc",
   "metadata": {},
   "outputs": [],
   "source": [
    "\n",
    "\n",
    "5: Integer\n",
    "5.0: Float\n",
    "5 > 1: Boolean\n",
    "'5': String\n",
    "`5 * 2: Integer \n",
    "'5' * 2: String \n",
    "'5' + '2': String \n",
    "5 / 2: Float \n",
    "5 % 2: Integer \n",
    "{5, 2, 1}: Set \n",
    "5 == 3: Boolean \n",
    "Pi (the number):Float "
   ]
  },
  {
   "cell_type": "markdown",
   "id": "4fd5e1cc-4f2e-47b1-8abb-0b4cd0c6b04d",
   "metadata": {},
   "source": [
    "### Write (and evaluate) python expressions that answer these questions:<br>\r",
    "<br>\n",
    "a. How many letters are there in 'Supercalifragilisticexpialidocious'?\r\n",
    "b. Does 'Supercalifragilisticexpialidocious' contain 'ice' as a substrin\n",
    "c. Which of the following words is the longest:\r\n",
    "Supercalifragilisticexpialidocious, Honorificabilitudinitatibus, or\r\n",
    "Bababadalgharaghtakamminarronnkonn?\r\n",
    "d. Which composer comes first in the dictionary: 'Berlioz', 'Borodin', 'Brian',\r\n",
    "'Bartok', 'Bellini', 'Buxtehude', 'Bernstein'. Which one comes last?? "
   ]
  },
  {
   "cell_type": "code",
   "execution_count": 14,
   "id": "78e0aa29-2dee-455e-89b3-c044f85797a2",
   "metadata": {},
   "outputs": [
    {
     "name": "stdout",
     "output_type": "stream",
     "text": [
      "34\n",
      "True\n",
      "Supercalifragilisticexpialidocious\n",
      "First composer: Bartok\n",
      "Last composer: Buxtehude\n"
     ]
    }
   ],
   "source": [
    "num_letters = len('Supercalifragilisticexpialidocious')\n",
    "print(num_letters)\n",
    "\n",
    "contains_ice = 'ice' in 'Supercalifragilisticexpialidocious'\n",
    "print(contains_ice)\n",
    "\n",
    "words = ['Supercalifragilisticexpialidocious', 'Honorificabilitudinitatibus', 'Bababadalgharaghtakamminarronnkonn']\n",
    "longest_word = max(words, key=len)\n",
    "print(longest_word)\n",
    "\n",
    "composers = ['Berlioz', 'Borodin', 'Brian', 'Bartok', 'Bellini', 'Buxtehude', 'Bernstein']\n",
    "first_composer = min(composers)\n",
    "last_composer = max(composers)\n",
    "print(\"First composer:\", first_composer)\n",
    "print(\"Last composer:\", last_composer)\n",
    "\n"
   ]
  },
  {
   "cell_type": "markdown",
   "id": "6c7f0c3e-687d-402a-b9e4-0dfde368e0c7",
   "metadata": {},
   "source": [
    "### Implement function triangleArea(a,b,c) that takes as input the lengths of the 3\r\n",
    "sides of a triangle and returns the area of the triangle. By Heron's formula, the area\r\n",
    "of a triangle with side lengths a, b, and c is\r\n",
    "s(s - a)(s -b)(s -c)\r\n",
    ", where\r\n",
    "s = (a+b+c)/2.\r\n",
    ">>> triangleArea(2,2,2)\r\n",
    "1.7320508075688772"
   ]
  },
  {
   "cell_type": "code",
   "execution_count": 11,
   "id": "4aa9c233-c065-4f7a-b7eb-653f60daacaa",
   "metadata": {},
   "outputs": [
    {
     "name": "stdout",
     "output_type": "stream",
     "text": [
      "1.7320508075688772\n"
     ]
    }
   ],
   "source": [
    "import math\n",
    "\n",
    "def triangleArea(a, b, c):\n",
    "    area = math.sqrt((a + b + c) * (-a + b + c) * (a - b + c) * (a + b - c)) / 4\n",
    "    return area\n",
    "\n",
    "\n",
    "print(triangleArea(2, 2, 2))  \n"
   ]
  },
  {
   "cell_type": "markdown",
   "id": "463a67dc-d389-4f9c-b021-eb9b486d99ef",
   "metadata": {},
   "source": [
    "### Write a program in python to separate odd and even integers in separate arrays. rlements are :"
   ]
  },
  {
   "cell_type": "code",
   "execution_count": 24,
   "id": "85fd9753-100d-4b8f-ac7b-1148715f6c85",
   "metadata": {},
   "outputs": [
    {
     "name": "stdin",
     "output_type": "stream",
     "text": [
      "Input the number of elements to be stored in the array:  5\n",
      "element - 0 :  16\n",
      "element - 1 :  20\n",
      "element - 2 :  01\n",
      "element - 3 :  01\n",
      "element - 4 :  20\n"
     ]
    },
    {
     "name": "stdout",
     "output_type": "stream",
     "text": [
      "The Even elements are:\n",
      "16 20 20 \n",
      "The Odd elements are :\n",
      "1 1 "
     ]
    }
   ],
   "source": [
    "def separate_odd_even(numbers):\n",
    "    even = []\n",
    "    odd = []\n",
    "    for num in numbers:\n",
    "        if num % 2 == 0:\n",
    "            even.append(num)\n",
    "        else:\n",
    "            odd.append(num)\n",
    "    return even, odd\n",
    "\n",
    "def main():\n",
    "    n = int(input(\"Input the number of elements to be stored in the array: \"))\n",
    "    arr = []\n",
    "    for i in range(n):\n",
    "        num = int(input(f\"element - {i} : \"))\n",
    "        arr.append(num)\n",
    "    \n",
    "    even, odd = separate_odd_even(arr)\n",
    "    \n",
    "    print(\"The Even elements are:\")\n",
    "    for num in even:\n",
    "        print(num, end=\" \")\n",
    "    \n",
    "    print(\"\\nThe Odd elements are :\")\n",
    "    for num in odd:\n",
    "        print(num, end=\" \")\n",
    "\n",
    "if __name__ == \"__main__\":\n",
    "    main()\n",
    "\n"
   ]
  },
  {
   "cell_type": "markdown",
   "id": "1a09116a-3cb5-4c34-bfc5-cdb5a6738874",
   "metadata": {},
   "source": [
    "### a. Write a function inside(x,y,x1,y1,x2,y2) that returns True or False\r\n",
    "depending on whether the point (x,y) lies in the rectangle with lower left\r\n",
    "corner (x1,y1) and upper right corner (x2,y2).\r\n",
    ">>> inside(1,1,0,0,2,3)\r\n",
    "True\r\n",
    ">>> inside(-1,-1,0,0,2,3)\r\n",
    "False\r\n",
    "b. Use function inside() from part a. to write an expression that tests whether\r\n",
    "the point (1,1) lies in both of the following rectangles: one with lower left\r\n",
    "corner (0.3, 0.5) and upper right corner (1.1, 0.7) and the other with lower\r\n",
    "left corner (0.5, 0.2) and upper right corner (1.1, 2). "
   ]
  },
  {
   "cell_type": "code",
   "execution_count": 9,
   "id": "b45dbdbd-9e94-4267-800f-9ba263d36fef",
   "metadata": {},
   "outputs": [
    {
     "name": "stdout",
     "output_type": "stream",
     "text": [
      "Point (1,1) lies in rectangle 1: False\n",
      "Point (1,1) lies in rectangle 2: True\n"
     ]
    }
   ],
   "source": [
    "def inside(x, y, x1, y1, x2, y2):\n",
    "    return x1 <= x <= x2 and y1 <= y <= y2\n",
    "\n",
    "point = (1, 1)\n",
    "rectangle1 = (0.3, 0.5, 1.1, 0.7)\n",
    "rectangle2 = (0.5, 0.2, 1.1, 2)\n",
    "\n",
    "result1 = inside(point[0], point[1], rectangle1[0], rectangle1[1], rectangle1[2], rectangle1[3])\n",
    "result2 = inside(point[0], point[1], rectangle2[0], rectangle2[1], rectangle2[2], rectangle2[3])\n",
    "\n",
    "print(\"Point (1,1) lies in rectangle 1:\", result1)\n",
    "print(\"Point (1,1) lies in rectangle 2:\", result2)\n",
    "\n",
    "\n"
   ]
  },
  {
   "cell_type": "markdown",
   "id": "00d82dbd-6f28-4ba1-ab5f-01444595a304",
   "metadata": {},
   "source": [
    "### You can turn a word into pig-Latin using the following two rules (simplified):\r\n",
    "• If the word starts with a consonant, move that letter to the end and append\r\n",
    "'ay'. For example, 'happy' becomes 'appyhay' and 'pencil' becomes 'encilpay'.\r\n",
    "• If the word starts with a vowel, simply append 'way' to the end of the word.\r\n",
    "For example, 'enter' becomes 'enterway' and 'other' becomes 'otherway' . For\r\n",
    "our purposes, there are 5 vowels: a, e, i, o, u (so we count y as a consonant).\r\n",
    "Write a function pig() that takes a word (i.e., a string) as input and returns its pigLatin form. Your function should still work if the input word contains upper case\r\n",
    "characters. Your output should always be lower case however.\r\n",
    ">>> pig('happy')\r\n",
    "'appyhay'\r\n",
    ">>> pig('Enter')\r\n",
    "'enterway' "
   ]
  },
  {
   "cell_type": "code",
   "execution_count": 5,
   "id": "9f0edcf7-0a99-4a1f-b297-4f59323dc6d7",
   "metadata": {},
   "outputs": [
    {
     "name": "stdout",
     "output_type": "stream",
     "text": [
      "appyhay\n",
      "enterway\n"
     ]
    }
   ],
   "source": [
    "def pig(word):\n",
    "    vowels = ['a', 'e', 'i', 'o', 'u']\n",
    "    word = word.lower()\n",
    "    \n",
    "    if word[0] in vowels:\n",
    "        return word + 'way'\n",
    "    else:\n",
    "        return word[1:] + word[0] + 'ay'\n",
    "\n",
    "print(pig('happy'))  \n",
    "print(pig('Enter'))  \n"
   ]
  },
  {
   "cell_type": "markdown",
   "id": "2487cf7c-b51f-4492-98ef-8f8e0da605eb",
   "metadata": {},
   "source": [
    "### File bloodtype1.txt records blood-types of patients (A, B, AB, O or OO) at a clinic.\r\n",
    "Write a function bldcount() that reads the file with name name and reports (i.e.,\r\n",
    "prints) how many patients there are in each bloodtype.\r\n",
    ">>> bldcount('bloodtype.txt')\r\n",
    "There are 10 patients of blood type A.\r\n",
    "There is one patient of blood type B.\r\n",
    "There are 10 patients of blood type AB.\r\n",
    "There are 12 patients of blood type O.\r\n",
    "There are no patients of blood type OO."
   ]
  },
  {
   "cell_type": "code",
   "execution_count": 21,
   "id": "b5dde7e0-85fb-4770-9137-4f9f87bd82d4",
   "metadata": {},
   "outputs": [
    {
     "name": "stdout",
     "output_type": "stream",
     "text": [
      "File 'bloodtype.txt' not found.\n"
     ]
    }
   ],
   "source": [
    "def bldcount(filename):\n",
    "    blood_type_count = {'A': 0, 'B': 0, 'AB': 0, 'O': 0, 'OO': 0}\n",
    "    \n",
    "    try:\n",
    "        with open(filename, 'r') as file:\n",
    "            for line in file:\n",
    "                blood_type = line.strip()\n",
    "                blood_type_count[blood_type] += 1\n",
    "    except FileNotFoundError:\n",
    "        print(f\"File '{filename}' not found.\")\n",
    "        return\n",
    "\n",
    "    for blood_type, count in blood_type_count.items():\n",
    "        if count == 1:\n",
    "            print(f\"There is one patient of blood type {blood_type}.\")\n",
    "        elif count > 1:\n",
    "            print(f\"There are {count} patients of blood type {blood_type}.\")\n",
    "        else:\n",
    "            print(f\"There are no patients of blood type {blood_type}.\")\n",
    "\n",
    "\n",
    "bldcount('bloodtype.txt')\n"
   ]
  },
  {
   "cell_type": "markdown",
   "id": "610c9764-aaaa-41f6-a5ea-1653656ccb95",
   "metadata": {},
   "source": [
    "### Write a function curconv() that takes as input:\r\n",
    "1. a currency represented using a string (e.g., 'JPY' for the Japanese Yen or\r\n",
    "'EUR' for the Euro)\r\n",
    "2. an amount\r\n",
    "and then converts and returns the amount in US dollars.\r\n",
    ">>> curconv('EUR', 100)\r\n",
    "122.96544\r\n",
    ">>> curconv('JPY', 100)\r\n",
    "1.241401\r\n",
    "The currency rates you will need are stored in file currencies.txt:\r\n",
    "AUD 1.0345157 Australian Dollar\r\n",
    "CHF 1.0237414 Swiss Franc\r\n",
    "CNY 0.1550176 \n",
    "DKK 0.1651442 Danish Krone\r\n",
    "EUR 1.2296544 Euro\r\n",
    "GBP 1.5550989 British Pound\r\n",
    "HKD 0.1270207 Hong Kong Dollar\r\n",
    "INR 0.0177643 Indian Rupee\r\n",
    "JPY 0.01241401 Japanese Yen\r\n",
    "MXN 0.0751848 Mexican Peso\r\n",
    "MYR 0.3145411 Malaysian Ringgit\r\n",
    "NOK 0.1677063 Norwegian Krone\r\n",
    "NZD 0.8003591 New Zealand Dollar\r\n",
    "PHP 0.0233234 Philippine Peso\r\n",
    "SEK 0.148269 Swedish Krona\r\n",
    "SGD 0.788871 Singapore Dollar\r\n",
    "THB 0.0313789 Thai Baht\r",
    "Chinese Yuan"
   ]
  },
  {
   "cell_type": "code",
   "execution_count": 23,
   "id": "00af7b31-d9ad-4831-9944-8bd5a5720db2",
   "metadata": {},
   "outputs": [
    {
     "name": "stdout",
     "output_type": "stream",
     "text": [
      "Currency file not found\n",
      "Currency file not found\n"
     ]
    }
   ],
   "source": [
    "def curconv(currency, amount):\n",
    "    try:\n",
    "        with open('currencies.txt', 'r') as file:\n",
    "            for line in file:\n",
    "                parts = line.split()\n",
    "                if len(parts) == 2:\n",
    "                    if parts[0] == currency:\n",
    "                        return amount * float(parts[1])\n",
    "        return \"Currency not found\"\n",
    "    except FileNotFoundError:\n",
    "        return \"Currency file not found\"\n",
    "    except ValueError:\n",
    "        return \"Invalid data format in currency file\"\n",
    "\n",
    "print(curconv('EUR', 100))\n",
    "print(curconv('JPY', 100))\n",
    "\n"
   ]
  },
  {
   "cell_type": "markdown",
   "id": "bb96f18e-ad23-4ab2-9e78-92c5672c42ec",
   "metadata": {},
   "source": [
    "### Each of the following will cause an exception (an error). Identify what type of\r\n",
    "exception each will cause.\r\n",
    "Trying to add incompatible variables, as in\r\n",
    "adding 6 + ‘a’\r\n",
    "Referring to the 12th item of a list that has only 10\r\n",
    "items\r\n",
    "Using a value that is out of range for a function’s\r\n",
    "input, such as calling math.sqrt(-1.0)\r\n",
    "Using an undeclared variable, such as print(x)\r\n",
    "when x has not been defined\r\n",
    "Trying to open a file that does not exist, such as\r\n",
    "mistyping the file name or looking in the wrong\r\n",
    "directory"
   ]
  },
  {
   "cell_type": "code",
   "execution_count": null,
   "id": "b2b8d33f-3957-4f2d-8d9d-d82a936635ba",
   "metadata": {},
   "outputs": [],
   "source": [
    "1 -TypeError exception\n",
    "2 -IndexError exception\n",
    "3 -ValueError exception\n",
    "4 -NameError exception\n",
    "5 -FileNotFoundError exception"
   ]
  },
  {
   "cell_type": "markdown",
   "id": "c1cfa5a3-5ef6-4152-b33b-d7888b8b70f7",
   "metadata": {},
   "source": [
    "### Encryption is the process of hiding the meaning of a text by substituting letters in the\r\n",
    "message with other letters, according to some system. If the process is successful, no\r\n",
    "one but the intended recipient can understand the encrypted message. Cryptanalysis\r\n",
    "refers to attempts to undo the encryption, even if some details of the encryption are\r\n",
    "unknown (for example, if an encrypted message has been intercepted). The first step\r\n",
    "of cryptanalysis is often to build up a table of letter frequencies in the encrypted text.\r\n",
    "Assume that the string letters is already defined as\r\n",
    "'abcdefghijklmnopqrstuvwxyz'. Write a function called frequencies()\r\n",
    "that takes a string as its only parameter, and returns a list of integers, showing the\r\n",
    "number of times each character appears in the text. Your function may ignore any\r\n",
    "characters that are not in letters.\r\n",
    ">>> frequencies('The quick red fox got bored and went home.')\r\n",
    "[1, 1, 1, 3, 5, 1, 1, 2, 1, 0, 1, 0, 1, 2, 4, 0, 1, 2, 0, 2,\r\n",
    "1, 0, 1, 1, 0, 0]\r\n",
    ">>> frequencies('apple')"
   ]
  },
  {
   "cell_type": "code",
   "execution_count": 1,
   "id": "a877fe57-699d-4ed8-bede-66a3dbaab0dd",
   "metadata": {},
   "outputs": [
    {
     "name": "stdout",
     "output_type": "stream",
     "text": [
      "[1, 1, 1, 3, 5, 1, 1, 2, 1, 0, 1, 0, 1, 2, 4, 0, 1, 2, 0, 3, 1, 0, 1, 1, 0, 0]\n",
      "[1, 0, 0, 0, 1, 0, 0, 0, 0, 0, 0, 1, 0, 0, 0, 2, 0, 0, 0, 0, 0, 0, 0, 0, 0, 0]\n"
     ]
    }
   ],
   "source": [
    "def frequencies(text):\n",
    "    letters = 'abcdefghijklmnopqrstuvwxyz'\n",
    "    freq_dict = {letter: 0 for letter in letters}  \n",
    "\n",
    "    for char in text:\n",
    "        if char.lower() in freq_dict:\n",
    "            freq_dict[char.lower()] += 1  \n",
    "    \n",
    "    return list(freq_dict.values())\n",
    "\n",
    "print(frequencies('The quick red fox got bored and went home.'))  \n",
    "print(frequencies('apple'))  \n"
   ]
  },
  {
   "cell_type": "code",
   "execution_count": null,
   "id": "a23de301-7f4d-45ea-a6ee-166eca39104d",
   "metadata": {},
   "outputs": [],
   "source": []
  }
 ],
 "metadata": {
  "kernelspec": {
   "display_name": "Python 3 (ipykernel)",
   "language": "python",
   "name": "python3"
  },
  "language_info": {
   "codemirror_mode": {
    "name": "ipython",
    "version": 3
   },
   "file_extension": ".py",
   "mimetype": "text/x-python",
   "name": "python",
   "nbconvert_exporter": "python",
   "pygments_lexer": "ipython3",
   "version": "3.11.7"
  }
 },
 "nbformat": 4,
 "nbformat_minor": 5
}
